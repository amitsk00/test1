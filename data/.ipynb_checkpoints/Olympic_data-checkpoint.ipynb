{
 "cells": [
  {
   "cell_type": "code",
   "execution_count": null,
   "metadata": {},
   "outputs": [],
   "source": []
  },
  {
   "cell_type": "code",
   "execution_count": 19,
   "metadata": {},
   "outputs": [
    {
     "name": "stdout",
     "output_type": "stream",
     "text": [
      "          Country  SummerTotal  WinterTotal  GrandTotal\n",
      "135  United State         2399          282        2681\n",
      "106  Soviet Union         1010          194        1204\n",
      "49   Great Britai          780           26         806\n",
      "41   France (FRA)          671          109         780\n",
      "44   Germany (GER          573          209         782\n",
      "64   Italy (ITA)           549          114         663\n",
      "120  Sweden (SWE)          483          144         627\n",
      "56   Hungary (HUN          476            6         482\n",
      "23   China (CHN)           473           53         526\n",
      "5    Australia (A          468           12         480\n",
      "          Country  TotalGames  TotalGold  TotalSilver  TotalBronze  GrandTotal\n",
      "135  United State          48       1072          859          750        2681\n",
      "106  Soviet Union          18        473          376          355        1204\n",
      "44   Germany (GER          26        252          260          270         782\n",
      "49   Great Britai          49        246          276          284         806\n",
      "64   Italy (ITA)           48        235          200          228         663\n",
      "41   France (FRA)          49        233          254          293         780\n",
      "23   China (CHN)           19        213          168          145         526\n",
      "120  Sweden (SWE)          48        193          204          230         627\n",
      "46   East Germany          11        192          165          162         519\n",
      "104  Russia (RUS)          11        181          161          177         519\n"
     ]
    }
   ],
   "source": [
    "import pandas as pd\n",
    "import numpy as np\n",
    "import matplotlib.pyplot as mpl\n",
    "import seaborn\n",
    "\n",
    "%matplotlib inline\n",
    "\n",
    "list1 = [\"Country\", \"SummerGames\", \"SummerGold\",\n",
    "         \"SummerSilver\", \"SummerBronze\", \"SummerTotal\"]\n",
    "list2 = [\"WinterGames\", \"WinterGold\",\n",
    "         \"WinterSilver\", \"WinterBronze\", \"WinterTotal\"]\n",
    "list3 = [\"TotalGames\", \"TotalGold\",\n",
    "         \"TotalSilver\", \"TotalBronze\", \"GrandTotal\"]\n",
    "\n",
    "my_colz = list1 + list2 + list3\n",
    "\n",
    "file = pd.read_csv(\"olympics.csv\", skiprows=1, skipfooter=1, engine='python')\n",
    "df = pd.DataFrame(file)\n",
    "df.columns = my_colz\n",
    "df.Country = df.Country.str[:12]\n",
    "\n",
    "dfSummer = df[[\"Country\", \"SummerGames\", \"SummerGold\",\n",
    "               \"SummerSilver\", \"SummerBronze\", \"SummerTotal\"]]\n",
    "dfWinter = df[[\"Country\", \"WinterGames\", \"WinterGold\",\n",
    "               \"WinterSilver\", \"WinterBronze\", \"WinterTotal\"]]\n",
    "dfGrand = df[[\"Country\", \"TotalGames\", \"TotalGold\",\n",
    "              \"TotalSilver\", \"TotalBronze\", \"GrandTotal\"]]\n",
    "dfTotal = df[[\"Country\", \"SummerTotal\", \"WinterTotal\", \"GrandTotal\"]]\n",
    "dfTotal_sorted = dfTotal.sort_values(by=\"GrandTotal\", ascending=False)\n",
    "dfTotal_summer = dfTotal.sort_values(by=\"SummerTotal\", ascending=False)\n",
    "dfTotal_gold = dfGrand.sort_values(by=\"TotalGold\", ascending=False)\n",
    "dfTotal_top = dfTotal_sorted[:15]\n",
    "\n",
    "print(dfTotal_summer[:10])\n",
    "print(dfTotal_gold[:10])"
   ]
  },
  {
   "cell_type": "code",
   "execution_count": null,
   "metadata": {},
   "outputs": [],
   "source": [
    "mpl.figure(figsize=(20,5))\n",
    "mpl.plot(dfTotal_top[\"Country\"], dfTotal_top[\"SummerTotal\"], label=\"Summer\", linewidth=5)\n",
    "mpl.plot(dfTotal_gold[\"Country\"], dfTotal_gold[\"TotalGold\"], label=\"Winter\", linewidth=10)\n",
    "mpl.xlabel(\"Country\")\n",
    "mpl.ylabel(\"Totals\")\n",
    "mpl.legend()\n",
    "mpl.show()\n"
   ]
  }
 ],
 "metadata": {
  "kernelspec": {
   "display_name": "Python 3",
   "language": "python",
   "name": "python3"
  },
  "language_info": {
   "codemirror_mode": {
    "name": "ipython",
    "version": 3
   },
   "file_extension": ".py",
   "mimetype": "text/x-python",
   "name": "python",
   "nbconvert_exporter": "python",
   "pygments_lexer": "ipython3",
   "version": "3.6.5"
  }
 },
 "nbformat": 4,
 "nbformat_minor": 2
}
